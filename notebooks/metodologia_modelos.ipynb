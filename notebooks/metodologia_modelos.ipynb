{
 "cells": [
  {
   "cell_type": "markdown",
   "metadata": {},
   "source": [
    "# **Evaluacion y analisis de modelos, casos porblema de regresión y clasificación**"
   ]
  },
  {
   "cell_type": "markdown",
   "metadata": {},
   "source": [
    "### **Librerias:**"
   ]
  },
  {
   "cell_type": "code",
   "execution_count": null,
   "metadata": {},
   "outputs": [],
   "source": [
    "# Importing necessary libraries\n",
    "import pandas as pd  # For data manipulation and analysis\n",
    "import matplotlib.pyplot as plt  # For data visualization\n",
    "import time  # For tracking execution time\n",
    "\n",
    "# Importing modules from scikit-learn for model building and evaluation\n",
    "from sklearn.model_selection import train_test_split, GridSearchCV  # For splitting data and hyperparameter tuning\n",
    "from sklearn.pipeline import Pipeline  # For creating machine learning pipelines\n",
    "from sklearn.preprocessing import StandardScaler  # For feature scaling\n",
    "from sklearn.linear_model import Ridge, Lasso  # For regression models\n",
    "from sklearn.ensemble import RandomForestRegressor  # For ensemble regression model\n",
    "\n",
    "# Importing XGBoost library for regression\n",
    "from xgboost import XGBRegressor  # For gradient boosting regression\n",
    "\n",
    "# Importing metrics for model evaluation\n",
    "from sklearn.metrics import r2_score, mean_squared_error, mean_absolute_error  # For evaluating regression models"
   ]
  },
  {
   "cell_type": "code",
   "execution_count": 5,
   "metadata": {},
   "outputs": [],
   "source": [
    "df = pd.read_csv('..\\df_final.csv')  # Load the dataset\n"
   ]
  },
  {
   "cell_type": "markdown",
   "metadata": {},
   "source": [
    "## **Caso problema: Evaluación del potencial de energía Solar en Barranquilla: Análisis de irradiancia y variables atmosféricas para la generación sostenible**"
   ]
  },
  {
   "cell_type": "code",
   "execution_count": 6,
   "metadata": {},
   "outputs": [],
   "source": [
    "# === Definición de variables predictoras y objetivo para el modelo de regresión ===\n",
    "\n",
    "# Lista de variables independientes relevantes para predicción solar\n",
    "feature_cols = [\n",
    "    'T2M',       # Temperatura a 2 metros\n",
    "    'RH2M',      # Humedad relativa a 2 metros\n",
    "    'WS10M',     # Velocidad del viento a 10 metros\n",
    "    'WD10M',     # Dirección del viento a 10 metros\n",
    "    'PS',        # Presión superficial\n",
    "    'T2MDEW',    # Punto de rocío a 2 metros\n",
    "    'T2MWET',    # Temperatura de bulbo húmedo\n",
    "    'WS50M'      # Velocidad del viento a 50 metros\n",
    "]\n",
    "\n",
    "# Variables predictoras (X) y variable objetivo (y) para regresión\n",
    "X = df[feature_cols]\n",
    "y = df['SolarIndex']\n",
    "\n"
   ]
  },
  {
   "cell_type": "code",
   "execution_count": null,
   "metadata": {},
   "outputs": [],
   "source": [
    "X_train, X_test, y_train, y_test = train_test_split(\n",
    "    X, y, test_size=0.2, random_state=42\n",
    ")\n",
    "\n",
    "model_results = {}"
   ]
  },
  {
   "cell_type": "markdown",
   "metadata": {},
   "source": [
    "### **Ridge Regression**"
   ]
  },
  {
   "cell_type": "code",
   "execution_count": null,
   "metadata": {},
   "outputs": [],
   "source": [
    "ridge_pipe = Pipeline([\n",
    "    ('scaler', StandardScaler()),\n",
    "    ('model', Ridge())\n",
    "])\n",
    "\n",
    "ridge_params = {'model__alpha': [0.01, 0.1, 1, 10, 100]}\n",
    "ridge_grid = GridSearchCV(ridge_pipe, ridge_params, cv=5)\n",
    "\n",
    "start_time = time.time()\n",
    "ridge_grid.fit(X_train, y_train)\n",
    "end_time = time.time()\n",
    "\n",
    "y_pred_ridge = ridge_grid.predict(X_test)\n",
    "\n",
    "ridge_training_time = end_time - start_time\n",
    "\n",
    "model_results['Ridge'] = {\n",
    "    'Best Alpha': ridge_grid.best_params_['model__alpha'],\n",
    "    'R2': r2_score(y_test, y_pred_ridge),\n",
    "    'MSE': mean_squared_error(y_test, y_pred_ridge),\n",
    "    'MAE': mean_absolute_error(y_test, y_pred_ridge),\n",
    "    'Training Time (s)': round(ridge_training_time, 2)\n",
    "}\n",
    "\n"
   ]
  },
  {
   "cell_type": "markdown",
   "metadata": {},
   "source": [
    "### **Lasso Regression**"
   ]
  },
  {
   "cell_type": "code",
   "execution_count": null,
   "metadata": {},
   "outputs": [],
   "source": [
    "lasso_pipe = Pipeline([\n",
    "    ('scaler', StandardScaler()),\n",
    "    ('model', Lasso(max_iter=10000))\n",
    "])\n",
    "\n",
    "lasso_params = {'model__alpha': [0.01, 0.1, 1, 10]}\n",
    "lasso_grid = GridSearchCV(lasso_pipe, lasso_params, cv=5)\n",
    "lasso_grid.fit(X_train, y_train)\n",
    "y_pred_lasso = lasso_grid.predict(X_test)\n",
    "\n",
    "model_results['Lasso'] = {\n",
    "    'Best Alpha': lasso_grid.best_params_['model__alpha'],\n",
    "    'R2': r2_score(y_test, y_pred_lasso),\n",
    "    'MSE': mean_squared_error(y_test, y_pred_lasso),\n",
    "    'MAE': mean_absolute_error(y_test, y_pred_lasso)\n",
    "}\n",
    "\n"
   ]
  },
  {
   "cell_type": "markdown",
   "metadata": {},
   "source": [
    "### **Random Forest**"
   ]
  },
  {
   "cell_type": "code",
   "execution_count": null,
   "metadata": {},
   "outputs": [],
   "source": [
    "rf = RandomForestRegressor(n_estimators=100, random_state=42)\n",
    "rf.fit(X_train, y_train)\n",
    "y_pred_rf = rf.predict(X_test)\n",
    "\n",
    "model_results['Random Forest'] = {\n",
    "    'R2': r2_score(y_test, y_pred_rf),\n",
    "    'MSE': mean_squared_error(y_test, y_pred_rf),\n",
    "    'MAE': mean_absolute_error(y_test, y_pred_rf)\n",
    "}"
   ]
  },
  {
   "cell_type": "markdown",
   "metadata": {},
   "source": [
    "### **XGBoost**"
   ]
  },
  {
   "cell_type": "code",
   "execution_count": null,
   "metadata": {},
   "outputs": [],
   "source": [
    "xgb = XGBRegressor(n_estimators=100, random_state=42)\n",
    "xgb.fit(X_train, y_train)\n",
    "y_pred_xgb = xgb.predict(X_test)\n",
    "\n",
    "model_results['XGBoost'] = {\n",
    "    'R2': r2_score(y_test, y_pred_xgb),\n",
    "    'MSE': mean_squared_error(y_test, y_pred_xgb),\n",
    "    'MAE': mean_absolute_error(y_test, y_pred_xgb)\n",
    "}"
   ]
  },
  {
   "cell_type": "markdown",
   "metadata": {},
   "source": [
    "### **Resultados:**"
   ]
  },
  {
   "cell_type": "markdown",
   "metadata": {},
   "source": [
    "#### **Comparacion grafica:**"
   ]
  },
  {
   "cell_type": "code",
   "execution_count": 3,
   "metadata": {},
   "outputs": [
    {
     "ename": "NameError",
     "evalue": "name 'model_results' is not defined",
     "output_type": "error",
     "traceback": [
      "\u001b[31m---------------------------------------------------------------------------\u001b[39m",
      "\u001b[31mNameError\u001b[39m                                 Traceback (most recent call last)",
      "\u001b[36mCell\u001b[39m\u001b[36m \u001b[39m\u001b[32mIn[3]\u001b[39m\u001b[32m, line 2\u001b[39m\n\u001b[32m      1\u001b[39m \u001b[38;5;66;03m# Convertir a DataFrame si no lo tienes\u001b[39;00m\n\u001b[32m----> \u001b[39m\u001b[32m2\u001b[39m result_df_reg = pd.DataFrame(\u001b[43mmodel_results\u001b[49m).T\n\u001b[32m      4\u001b[39m \u001b[38;5;66;03m# Crear gráfico de barras para cada métrica\u001b[39;00m\n\u001b[32m      5\u001b[39m metrics = [\u001b[33m'\u001b[39m\u001b[33mR2\u001b[39m\u001b[33m'\u001b[39m, \u001b[33m'\u001b[39m\u001b[33mMSE\u001b[39m\u001b[33m'\u001b[39m, \u001b[33m'\u001b[39m\u001b[33mMAE\u001b[39m\u001b[33m'\u001b[39m]\n",
      "\u001b[31mNameError\u001b[39m: name 'model_results' is not defined"
     ]
    }
   ],
   "source": [
    "\n",
    "\n",
    "# Convertir a DataFrame si no lo tienes\n",
    "result_df_reg = pd.DataFrame(model_results).T\n",
    "\n",
    "# Crear gráfico de barras para cada métrica\n",
    "metrics = ['R2', 'MSE', 'MAE']\n",
    "\n",
    "for metric in metrics:\n",
    "    plt.figure(figsize=(8, 5))\n",
    "    result_df_reg[metric].plot(kind='bar', color='skyblue')\n",
    "    plt.title(f'Comparación de modelos según {metric}')\n",
    "    plt.ylabel(metric)\n",
    "    plt.xticks(rotation=45)\n",
    "    plt.grid(axis='y', linestyle='--', alpha=0.7)\n",
    "    plt.tight_layout()\n",
    "    plt.show()\n"
   ]
  },
  {
   "cell_type": "markdown",
   "metadata": {},
   "source": [
    "## **Caso problema: Clasificación de islas de calor urbanas en Barranquilla: Análisis de variables meteorológicas para la caracterización del microclima local**"
   ]
  },
  {
   "cell_type": "markdown",
   "metadata": {},
   "source": [
    "## **Balanceo de clases**\n",
    "\n",
    "En *Machine Learning*, una clase se refiere a una de las categorías en las que se agrupan las observaciones dentro de un problema de clasificación. En un conjunto de datos etiquetado, cada instancia está asociada a una clase específica, permitiendo que un modelo aprenda a predecir la categoría correcta para nuevas observaciones.\n",
    "Cuando el número de ejemplos en cada clase está desproporcionado, se habla de un **desbalance de clases**. Esto ocurre cuando una clase tiene significativamente más ejemplos que otra(s), afectando el desempeño del modelo de clasificación. En estas situaciones, el algoritmo tiende a favorecer la clase mayoritaria, lo que puede llevar a una alta precisión global, pero con un desempeño deficiente en la clase minoritaria.\n",
    "\n",
    "Para mitigar este problema, se emplean técnicas de balanceo de clases, cuyo objetivo es modificar la distribución de los datos o ajustar la forma en que el modelo aprende. En este estudio, se implementarán tres enfoques principales:\n",
    "\n",
    "* SMOTE (Synthetic Minority Over-sampling Technique): Es una técnica de sobremuestreo que genera nuevas instancias sintéticas de la clase minoritaria a partir de interpolaciones entre ejemplos existentes.\n",
    "* ADASYN (Adaptive Synthetic Sampling): Similar a SMOTE, pero con la particularidad de generar más ejemplos en aquellas regiones donde la clase minoritaria es más dispersa, mejorando la representatividad del conjunto de datos.\n",
    "* Ajuste de pesos con `class_weight='balanced`: Método que modifica la función de costo del modelo para penalizar más los errores en la clase minoritaria, sin necesidad de generar nuevos datos.\n"
   ]
  },
  {
   "cell_type": "markdown",
   "metadata": {},
   "source": [
    "## **Contextualización**\n",
    "\n",
    "El objetivo principal de este estudio es analizar cómo las condiciones meteorológicas varían en distintas áreas geográficas dentro de la misma ciudad. Para ello, se ha considerado como variable objetivo la \"localidad\". Esta variable se seleccionó debido a que las localidades en la ciudad pueden presentar diferencias significativas en las condiciones climáticas debido a factores geográficos, como la proximidad a cuerpos de agua, la altitud o la urbanización. Las diferencias en la temperatura, la precipitación, la humedad y otros factores climáticos pueden ser significativas entre localidades, lo que lleva a la formación de microclimas.\n",
    "\n",
    "La localidad se define como una zona geográfica que agrupa uno o más barrios, lo que facilita el análisis de variabilidad no solo a nivel de ciudad, sino también de pequeñas áreas urbanas dentro de la misma. Este enfoque permite identificar patrones de variabilidad climática que podrían ser esenciales para la planificación urbana, el manejo de recursos naturales o la toma de decisiones a nivel local."
   ]
  },
  {
   "cell_type": "markdown",
   "metadata": {},
   "source": [
    "### **Verificación de balance de clases**"
   ]
  },
  {
   "cell_type": "code",
   "execution_count": null,
   "metadata": {},
   "outputs": [
    {
     "ename": "NameError",
     "evalue": "name 'df' is not defined",
     "output_type": "error",
     "traceback": [
      "\u001b[31m---------------------------------------------------------------------------\u001b[39m",
      "\u001b[31mNameError\u001b[39m                                 Traceback (most recent call last)",
      "\u001b[36mCell\u001b[39m\u001b[36m \u001b[39m\u001b[32mIn[1]\u001b[39m\u001b[32m, line 2\u001b[39m\n\u001b[32m      1\u001b[39m \u001b[38;5;66;03m# Ver la distribución de las clases\u001b[39;00m\n\u001b[32m----> \u001b[39m\u001b[32m2\u001b[39m locality_counts = \u001b[43mdf\u001b[49m[\u001b[33m'\u001b[39m\u001b[33mLOCALITY\u001b[39m\u001b[33m'\u001b[39m].value_counts()\n\u001b[32m      3\u001b[39m \u001b[38;5;28mprint\u001b[39m(locality_counts)\n\u001b[32m      5\u001b[39m \u001b[38;5;66;03m# Visualización de la distribución\u001b[39;00m\n",
      "\u001b[31mNameError\u001b[39m: name 'df' is not defined"
     ]
    }
   ],
   "source": [
    "# Ver la distribución de las clases\n",
    "locality_counts = df['LOCALITY'].value_counts()\n",
    "print(locality_counts)\n",
    "\n",
    "# Visualización de la distribución\n",
    "locality_counts.plot(kind='bar')\n",
    "plt.title('Distribución de Localidades')\n",
    "plt.xlabel('Localidad')\n",
    "plt.ylabel('Número de Registros')\n",
    "plt.show()\n"
   ]
  },
  {
   "cell_type": "markdown",
   "metadata": {},
   "source": [
    "La distribución de las clases en la variable \"localidad\" es bastante equilibrada, ya que cada localidad (Sur, Oriente, Occidente, Norte y Centro) tiene un número similar de registros, con una pequeña diferencia en la localidad Centro, que tiene una instancia menos que las otras localidades. Dado que no se observa un desbalance significativo entre las clases, no es necesario aplicar técnicas de balanceo de clases, como SMOTE o ADASYN, para este conjunto de datos."
   ]
  },
  {
   "cell_type": "markdown",
   "metadata": {},
   "source": [
    "## **Modelos Benchmark**\n",
    "\n",
    "Ya teniendo la certeza de que las clases seencuentran balanceada, se procede entonces a ejecutar los modelos de referencia para el modelo de clasificación, en este caso ejecutaremos K-Nearest Neighbors (KNN), Clasificación de Bayes, Regresión Logística (Regularización L1/L2 - Ridge, Lasso respectivamente), Decision Tree, Random Forest, XGBoost (Lime), y Máquinas de Soporte Vectorial (SVM). Para cada caso analizaremos..."
   ]
  },
  {
   "cell_type": "code",
   "execution_count": null,
   "metadata": {},
   "outputs": [],
   "source": [
    "from sklearn.neighbors import KNeighborsClassifier\n",
    "from sklearn.model_selection import train_test_split\n",
    "from sklearn.metrics import classification_report, confusion_matrix, roc_auc_score, roc_curve\n",
    "import matplotlib.pyplot as plt\n",
    "\n",
    "# Definir variables predictoras (X) y variable objetivo (y) para clasificación de islas de calor\n",
    "X = df[[\n",
    "    'T2M', 'RH2M', 'WS10M', 'PS', 'T2MDEW', 'T2MWET', 'WS50M'\n",
    "]]\n",
    "\n",
    "y = df['ICU_Categoria']  # Etiqueta categórica: niveles de isla de calor\n",
    "\n",
    "# Dividir el dataset en conjunto de entrenamiento y prueba (80% entrenamiento, 20% prueba)\n",
    "X_train, X_test, y_train, y_test = train_test_split(X, y, test_size=0.2, random_state=42)\n",
    "\n",
    "# Inicializar el modelo KNN\n",
    "knn = KNeighborsClassifier(n_neighbors=5)\n",
    "\n",
    "# Entrenar el modelo\n",
    "knn.fit(X_train, y_train)\n",
    "\n",
    "# Predecir con el conjunto de prueba\n",
    "y_pred = knn.predict(X_test)\n",
    "\n",
    "# Evaluar el modelo: Reporte de clasificación\n",
    "print(\"Reporte de clasificación:\\n\", classification_report(y_test, y_pred))\n",
    "\n",
    "# Matriz de confusión\n",
    "print(\"Matriz de confusión:\\n\", confusion_matrix(y_test, y_pred))\n",
    "\n",
    "# Curva ROC y AUC\n",
    "fpr, tpr, thresholds = roc_curve(y_test, knn.predict_proba(X_test), pos_label=1)\n",
    "roc_auc = roc_auc_score(y_test, y_pred)\n",
    "\n",
    "plt.figure(figsize=(8,6))\n",
    "plt.plot(fpr, tpr, label=f\"AUC = {roc_auc:.2f}\")\n",
    "plt.plot([0, 1], [0, 1], color='navy', linestyle='--')\n",
    "plt.title(\"Curva ROC para KNN\")\n",
    "plt.xlabel('Tasa de Falsos Positivos')\n",
    "plt.ylabel('Tasa de Verdaderos Positivos')\n",
    "plt.legend(loc='lower right')\n",
    "plt.show()\n",
    "\n"
   ]
  }
 ],
 "metadata": {
  "kernelspec": {
   "display_name": "testml_env",
   "language": "python",
   "name": "python3"
  },
  "language_info": {
   "codemirror_mode": {
    "name": "ipython",
    "version": 3
   },
   "file_extension": ".py",
   "mimetype": "text/x-python",
   "name": "python",
   "nbconvert_exporter": "python",
   "pygments_lexer": "ipython3",
   "version": "3.8.20"
  }
 },
 "nbformat": 4,
 "nbformat_minor": 2
}
