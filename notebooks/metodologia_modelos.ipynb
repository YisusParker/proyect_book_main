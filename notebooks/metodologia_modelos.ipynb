{
 "cells": [
  {
   "cell_type": "markdown",
   "metadata": {},
   "source": [
    "# **Evaluacion y analisis de modelos, casos porblema de regresión y clasificación**"
   ]
  },
  {
   "cell_type": "markdown",
   "metadata": {},
   "source": [
    "### **Librerias:**"
   ]
  },
  {
   "cell_type": "code",
   "execution_count": 1,
   "metadata": {},
   "outputs": [],
   "source": [
    "import sys\n",
    "# Agregamos esa ruta raíz al sys.path\n",
    "sys.path.append(\"..\")\n",
    "\n",
    "# Ahora sí podemos importar\n",
    "from modulos.compartido import df\n"
   ]
  },
  {
   "cell_type": "code",
   "execution_count": 2,
   "metadata": {},
   "outputs": [],
   "source": [
    "import pandas as pd\n",
    "import matplotlib.pyplot as plt\n",
    "import time\n",
    "from sklearn.model_selection import train_test_split, GridSearchCV\n",
    "from sklearn.pipeline import Pipeline\n",
    "from sklearn.preprocessing import StandardScaler\n",
    "from sklearn.linear_model import Ridge, Lasso\n",
    "from sklearn.ensemble import RandomForestRegressor\n",
    "from xgboost import XGBRegressor\n",
    "from sklearn.metrics import r2_score, mean_squared_error, mean_absolute_error"
   ]
  },
  {
   "cell_type": "markdown",
   "metadata": {},
   "source": [
    "## **Caso problema: Evaluación del potencial de energía Solar en Barranquilla: Análisis de irradiancia y variables atmosféricas para la generación sostenible**"
   ]
  },
  {
   "cell_type": "code",
   "execution_count": 3,
   "metadata": {},
   "outputs": [
    {
     "data": {
      "application/vnd.microsoft.datawrangler.viewer.v0+json": {
       "columns": [
        {
         "name": "index",
         "rawType": "int64",
         "type": "integer"
        },
        {
         "name": "YEAR",
         "rawType": "int64",
         "type": "integer"
        },
        {
         "name": "MO",
         "rawType": "int64",
         "type": "integer"
        },
        {
         "name": "DY",
         "rawType": "int64",
         "type": "integer"
        },
        {
         "name": "HR",
         "rawType": "int64",
         "type": "integer"
        },
        {
         "name": "T2M",
         "rawType": "float64",
         "type": "float"
        },
        {
         "name": "PRECTOTCORR",
         "rawType": "float64",
         "type": "float"
        },
        {
         "name": "RH2M",
         "rawType": "float64",
         "type": "float"
        },
        {
         "name": "WS10M",
         "rawType": "float64",
         "type": "float"
        },
        {
         "name": "WD10M",
         "rawType": "float64",
         "type": "float"
        },
        {
         "name": "PS",
         "rawType": "float64",
         "type": "float"
        },
        {
         "name": "ALLSKY_SFC_UV_INDEX",
         "rawType": "float64",
         "type": "float"
        },
        {
         "name": "ALLSKY_SRF_ALB",
         "rawType": "float64",
         "type": "float"
        },
        {
         "name": "ALLSKY_SFC_SW_DIFF",
         "rawType": "float64",
         "type": "float"
        },
        {
         "name": "T2MDEW",
         "rawType": "float64",
         "type": "float"
        },
        {
         "name": "T2MWET",
         "rawType": "float64",
         "type": "float"
        },
        {
         "name": "WS50M",
         "rawType": "float64",
         "type": "float"
        },
        {
         "name": "ALLSKY_KT",
         "rawType": "float64",
         "type": "float"
        },
        {
         "name": "LOCALITY",
         "rawType": "object",
         "type": "string"
        },
        {
         "name": "NBHD",
         "rawType": "object",
         "type": "string"
        },
        {
         "name": "SolarIndex",
         "rawType": "float64",
         "type": "float"
        }
       ],
       "conversionMethod": "pd.DataFrame",
       "ref": "c172e8e0-adce-4d7c-9fde-7929ba526c77",
       "rows": [
        [
         "0",
         "2020",
         "1",
         "1",
         "0",
         "26.66",
         "0.03",
         "86.19",
         "7.87",
         "40.0",
         "100.66",
         "0.0",
         null,
         "0.0",
         "24.19",
         "25.42",
         "10.13",
         null,
         "Centro",
         "BarrioAbajo",
         null
        ],
        [
         "1",
         "2020",
         "1",
         "1",
         "1",
         "26.56",
         "0.03",
         "85.81",
         "8.02",
         "41.8",
         "100.58",
         "0.0",
         null,
         "0.0",
         "24.01",
         "25.29",
         "10.31",
         null,
         "Centro",
         "BarrioAbajo",
         null
        ],
        [
         "2",
         "2020",
         "1",
         "1",
         "2",
         "26.43",
         "0.02",
         "85.59",
         "8.05",
         "42.7",
         "100.52",
         "0.0",
         null,
         "0.0",
         "23.84",
         "25.14",
         "10.33",
         null,
         "Centro",
         "BarrioAbajo",
         null
        ],
        [
         "3",
         "2020",
         "1",
         "1",
         "3",
         "26.35",
         "0.0",
         "84.96",
         "8.01",
         "43.7",
         "100.49",
         "0.0",
         null,
         "0.0",
         "23.63",
         "24.99",
         "10.25",
         null,
         "Centro",
         "BarrioAbajo",
         null
        ],
        [
         "4",
         "2020",
         "1",
         "1",
         "4",
         "26.27",
         "0.0",
         "84.21",
         "7.88",
         "45.6",
         "100.49",
         "0.0",
         null,
         "0.0",
         "23.42",
         "24.85",
         "10.08",
         null,
         "Centro",
         "BarrioAbajo",
         null
        ]
       ],
       "shape": {
        "columns": 20,
        "rows": 5
       }
      },
      "text/html": [
       "<div>\n",
       "<style scoped>\n",
       "    .dataframe tbody tr th:only-of-type {\n",
       "        vertical-align: middle;\n",
       "    }\n",
       "\n",
       "    .dataframe tbody tr th {\n",
       "        vertical-align: top;\n",
       "    }\n",
       "\n",
       "    .dataframe thead th {\n",
       "        text-align: right;\n",
       "    }\n",
       "</style>\n",
       "<table border=\"1\" class=\"dataframe\">\n",
       "  <thead>\n",
       "    <tr style=\"text-align: right;\">\n",
       "      <th></th>\n",
       "      <th>YEAR</th>\n",
       "      <th>MO</th>\n",
       "      <th>DY</th>\n",
       "      <th>HR</th>\n",
       "      <th>T2M</th>\n",
       "      <th>PRECTOTCORR</th>\n",
       "      <th>RH2M</th>\n",
       "      <th>WS10M</th>\n",
       "      <th>WD10M</th>\n",
       "      <th>PS</th>\n",
       "      <th>ALLSKY_SFC_UV_INDEX</th>\n",
       "      <th>ALLSKY_SRF_ALB</th>\n",
       "      <th>ALLSKY_SFC_SW_DIFF</th>\n",
       "      <th>T2MDEW</th>\n",
       "      <th>T2MWET</th>\n",
       "      <th>WS50M</th>\n",
       "      <th>ALLSKY_KT</th>\n",
       "      <th>LOCALITY</th>\n",
       "      <th>NBHD</th>\n",
       "      <th>SolarIndex</th>\n",
       "    </tr>\n",
       "  </thead>\n",
       "  <tbody>\n",
       "    <tr>\n",
       "      <th>0</th>\n",
       "      <td>2020</td>\n",
       "      <td>1</td>\n",
       "      <td>1</td>\n",
       "      <td>0</td>\n",
       "      <td>26.66</td>\n",
       "      <td>0.03</td>\n",
       "      <td>86.19</td>\n",
       "      <td>7.87</td>\n",
       "      <td>40.0</td>\n",
       "      <td>100.66</td>\n",
       "      <td>0.0</td>\n",
       "      <td>NaN</td>\n",
       "      <td>0.0</td>\n",
       "      <td>24.19</td>\n",
       "      <td>25.42</td>\n",
       "      <td>10.13</td>\n",
       "      <td>NaN</td>\n",
       "      <td>Centro</td>\n",
       "      <td>BarrioAbajo</td>\n",
       "      <td>NaN</td>\n",
       "    </tr>\n",
       "    <tr>\n",
       "      <th>1</th>\n",
       "      <td>2020</td>\n",
       "      <td>1</td>\n",
       "      <td>1</td>\n",
       "      <td>1</td>\n",
       "      <td>26.56</td>\n",
       "      <td>0.03</td>\n",
       "      <td>85.81</td>\n",
       "      <td>8.02</td>\n",
       "      <td>41.8</td>\n",
       "      <td>100.58</td>\n",
       "      <td>0.0</td>\n",
       "      <td>NaN</td>\n",
       "      <td>0.0</td>\n",
       "      <td>24.01</td>\n",
       "      <td>25.29</td>\n",
       "      <td>10.31</td>\n",
       "      <td>NaN</td>\n",
       "      <td>Centro</td>\n",
       "      <td>BarrioAbajo</td>\n",
       "      <td>NaN</td>\n",
       "    </tr>\n",
       "    <tr>\n",
       "      <th>2</th>\n",
       "      <td>2020</td>\n",
       "      <td>1</td>\n",
       "      <td>1</td>\n",
       "      <td>2</td>\n",
       "      <td>26.43</td>\n",
       "      <td>0.02</td>\n",
       "      <td>85.59</td>\n",
       "      <td>8.05</td>\n",
       "      <td>42.7</td>\n",
       "      <td>100.52</td>\n",
       "      <td>0.0</td>\n",
       "      <td>NaN</td>\n",
       "      <td>0.0</td>\n",
       "      <td>23.84</td>\n",
       "      <td>25.14</td>\n",
       "      <td>10.33</td>\n",
       "      <td>NaN</td>\n",
       "      <td>Centro</td>\n",
       "      <td>BarrioAbajo</td>\n",
       "      <td>NaN</td>\n",
       "    </tr>\n",
       "    <tr>\n",
       "      <th>3</th>\n",
       "      <td>2020</td>\n",
       "      <td>1</td>\n",
       "      <td>1</td>\n",
       "      <td>3</td>\n",
       "      <td>26.35</td>\n",
       "      <td>0.00</td>\n",
       "      <td>84.96</td>\n",
       "      <td>8.01</td>\n",
       "      <td>43.7</td>\n",
       "      <td>100.49</td>\n",
       "      <td>0.0</td>\n",
       "      <td>NaN</td>\n",
       "      <td>0.0</td>\n",
       "      <td>23.63</td>\n",
       "      <td>24.99</td>\n",
       "      <td>10.25</td>\n",
       "      <td>NaN</td>\n",
       "      <td>Centro</td>\n",
       "      <td>BarrioAbajo</td>\n",
       "      <td>NaN</td>\n",
       "    </tr>\n",
       "    <tr>\n",
       "      <th>4</th>\n",
       "      <td>2020</td>\n",
       "      <td>1</td>\n",
       "      <td>1</td>\n",
       "      <td>4</td>\n",
       "      <td>26.27</td>\n",
       "      <td>0.00</td>\n",
       "      <td>84.21</td>\n",
       "      <td>7.88</td>\n",
       "      <td>45.6</td>\n",
       "      <td>100.49</td>\n",
       "      <td>0.0</td>\n",
       "      <td>NaN</td>\n",
       "      <td>0.0</td>\n",
       "      <td>23.42</td>\n",
       "      <td>24.85</td>\n",
       "      <td>10.08</td>\n",
       "      <td>NaN</td>\n",
       "      <td>Centro</td>\n",
       "      <td>BarrioAbajo</td>\n",
       "      <td>NaN</td>\n",
       "    </tr>\n",
       "  </tbody>\n",
       "</table>\n",
       "</div>"
      ],
      "text/plain": [
       "   YEAR  MO  DY  HR    T2M  PRECTOTCORR   RH2M  WS10M  WD10M      PS  \\\n",
       "0  2020   1   1   0  26.66         0.03  86.19   7.87   40.0  100.66   \n",
       "1  2020   1   1   1  26.56         0.03  85.81   8.02   41.8  100.58   \n",
       "2  2020   1   1   2  26.43         0.02  85.59   8.05   42.7  100.52   \n",
       "3  2020   1   1   3  26.35         0.00  84.96   8.01   43.7  100.49   \n",
       "4  2020   1   1   4  26.27         0.00  84.21   7.88   45.6  100.49   \n",
       "\n",
       "   ALLSKY_SFC_UV_INDEX  ALLSKY_SRF_ALB  ALLSKY_SFC_SW_DIFF  T2MDEW  T2MWET  \\\n",
       "0                  0.0             NaN                 0.0   24.19   25.42   \n",
       "1                  0.0             NaN                 0.0   24.01   25.29   \n",
       "2                  0.0             NaN                 0.0   23.84   25.14   \n",
       "3                  0.0             NaN                 0.0   23.63   24.99   \n",
       "4                  0.0             NaN                 0.0   23.42   24.85   \n",
       "\n",
       "   WS50M  ALLSKY_KT LOCALITY         NBHD  SolarIndex  \n",
       "0  10.13        NaN   Centro  BarrioAbajo         NaN  \n",
       "1  10.31        NaN   Centro  BarrioAbajo         NaN  \n",
       "2  10.33        NaN   Centro  BarrioAbajo         NaN  \n",
       "3  10.25        NaN   Centro  BarrioAbajo         NaN  \n",
       "4  10.08        NaN   Centro  BarrioAbajo         NaN  "
      ]
     },
     "execution_count": 3,
     "metadata": {},
     "output_type": "execute_result"
    }
   ],
   "source": [
    "df_rg = df.copy()\n",
    "# Definimos la variable objetivo y las variables predictoras\n",
    "uv_max = df[\"ALLSKY_SFC_UV_INDEX\"].max()\n",
    "\n",
    "df_rg[\"SolarIndex\"] = (\n",
    "    (df_rg[\"ALLSKY_SFC_SW_DIFF\"] / 1000)  # convertir Wh/m² a kWh/m²\n",
    "    * df_rg[\"ALLSKY_KT\"]\n",
    "    * (df_rg[\"ALLSKY_SFC_UV_INDEX\"] / uv_max)\n",
    ")\n",
    "\n",
    "df_rg.head()"
   ]
  },
  {
   "cell_type": "code",
   "execution_count": 4,
   "metadata": {},
   "outputs": [],
   "source": [
    "feature_cols = [\n",
    "    'T2M', 'RH2M', 'WS10M', 'WD10M', 'PS',\n",
    "    'T2MDEW', 'T2MWET', 'WS50M'\n",
    "]\n",
    "\n",
    "X = df_rg[feature_cols]\n",
    "y = df_rg['SolarIndex']\n"
   ]
  },
  {
   "cell_type": "code",
   "execution_count": 5,
   "metadata": {},
   "outputs": [],
   "source": [
    "X_train, X_test, y_train, y_test = train_test_split(\n",
    "    X, y, test_size=0.2, random_state=42\n",
    ")\n",
    "\n",
    "model_results = {}"
   ]
  },
  {
   "cell_type": "markdown",
   "metadata": {},
   "source": [
    "### **Ridge Regression**"
   ]
  },
  {
   "cell_type": "code",
   "execution_count": null,
   "metadata": {},
   "outputs": [],
   "source": [
    "ridge_pipe = Pipeline([\n",
    "    ('scaler', StandardScaler()),\n",
    "    ('model', Ridge())\n",
    "])\n",
    "\n",
    "ridge_params = {'model__alpha': [0.01, 0.1, 1, 10, 100]}\n",
    "ridge_grid = GridSearchCV(ridge_pipe, ridge_params, cv=5)\n",
    "\n",
    "start_time = time.time()\n",
    "ridge_grid.fit(X_train, y_train)\n",
    "end_time = time.time()\n",
    "\n",
    "y_pred_ridge = ridge_grid.predict(X_test)\n",
    "\n",
    "ridge_training_time = end_time - start_time\n",
    "\n",
    "model_results['Ridge'] = {\n",
    "    'Best Alpha': ridge_grid.best_params_['model__alpha'],\n",
    "    'R2': r2_score(y_test, y_pred_ridge),\n",
    "    'MSE': mean_squared_error(y_test, y_pred_ridge),\n",
    "    'MAE': mean_absolute_error(y_test, y_pred_ridge),\n",
    "    'Training Time (s)': round(ridge_training_time, 2)\n",
    "}\n",
    "\n"
   ]
  },
  {
   "cell_type": "markdown",
   "metadata": {},
   "source": [
    "### **Lasso Regression**"
   ]
  },
  {
   "cell_type": "code",
   "execution_count": null,
   "metadata": {},
   "outputs": [],
   "source": [
    "lasso_pipe = Pipeline([\n",
    "    ('scaler', StandardScaler()),\n",
    "    ('model', Lasso(max_iter=10000))\n",
    "])\n",
    "\n",
    "lasso_params = {'model__alpha': [0.01, 0.1, 1, 10]}\n",
    "lasso_grid = GridSearchCV(lasso_pipe, lasso_params, cv=5)\n",
    "lasso_grid.fit(X_train, y_train)\n",
    "y_pred_lasso = lasso_grid.predict(X_test)\n",
    "\n",
    "model_results['Lasso'] = {\n",
    "    'Best Alpha': lasso_grid.best_params_['model__alpha'],\n",
    "    'R2': r2_score(y_test, y_pred_lasso),\n",
    "    'MSE': mean_squared_error(y_test, y_pred_lasso),\n",
    "    'MAE': mean_absolute_error(y_test, y_pred_lasso)\n",
    "}\n",
    "\n"
   ]
  },
  {
   "cell_type": "markdown",
   "metadata": {},
   "source": [
    "### **Random Forest**"
   ]
  },
  {
   "cell_type": "code",
   "execution_count": null,
   "metadata": {},
   "outputs": [],
   "source": [
    "rf = RandomForestRegressor(n_estimators=100, random_state=42)\n",
    "rf.fit(X_train, y_train)\n",
    "y_pred_rf = rf.predict(X_test)\n",
    "\n",
    "model_results['Random Forest'] = {\n",
    "    'R2': r2_score(y_test, y_pred_rf),\n",
    "    'MSE': mean_squared_error(y_test, y_pred_rf),\n",
    "    'MAE': mean_absolute_error(y_test, y_pred_rf)\n",
    "}"
   ]
  },
  {
   "cell_type": "markdown",
   "metadata": {},
   "source": [
    "### **XGBoost**"
   ]
  },
  {
   "cell_type": "code",
   "execution_count": null,
   "metadata": {},
   "outputs": [],
   "source": [
    "xgb = XGBRegressor(n_estimators=100, random_state=42)\n",
    "xgb.fit(X_train, y_train)\n",
    "y_pred_xgb = xgb.predict(X_test)\n",
    "\n",
    "model_results['XGBoost'] = {\n",
    "    'R2': r2_score(y_test, y_pred_xgb),\n",
    "    'MSE': mean_squared_error(y_test, y_pred_xgb),\n",
    "    'MAE': mean_absolute_error(y_test, y_pred_xgb)\n",
    "}"
   ]
  },
  {
   "cell_type": "markdown",
   "metadata": {},
   "source": [
    "### **Resultados:**"
   ]
  },
  {
   "cell_type": "markdown",
   "metadata": {},
   "source": [
    "#### **Comparacion grafica:**"
   ]
  },
  {
   "cell_type": "code",
   "execution_count": null,
   "metadata": {},
   "outputs": [],
   "source": [
    "\n",
    "\n",
    "# Convertir a DataFrame si no lo tienes\n",
    "result_df_reg = pd.DataFrame(model_results).T\n",
    "\n",
    "# Crear gráfico de barras para cada métrica\n",
    "metrics = ['R2', 'MSE', 'MAE']\n",
    "\n",
    "for metric in metrics:\n",
    "    plt.figure(figsize=(8, 5))\n",
    "    result_df_reg[metric].plot(kind='bar', color='skyblue')\n",
    "    plt.title(f'Comparación de modelos según {metric}')\n",
    "    plt.ylabel(metric)\n",
    "    plt.xticks(rotation=45)\n",
    "    plt.grid(axis='y', linestyle='--', alpha=0.7)\n",
    "    plt.tight_layout()\n",
    "    plt.show()\n"
   ]
  }
 ],
 "metadata": {
  "kernelspec": {
   "display_name": "testml_env",
   "language": "python",
   "name": "python3"
  },
  "language_info": {
   "codemirror_mode": {
    "name": "ipython",
    "version": 3
   },
   "file_extension": ".py",
   "mimetype": "text/x-python",
   "name": "python",
   "nbconvert_exporter": "python",
   "pygments_lexer": "ipython3",
   "version": "3.8.20"
  }
 },
 "nbformat": 4,
 "nbformat_minor": 2
}
