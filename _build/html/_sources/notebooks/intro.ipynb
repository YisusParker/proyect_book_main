{
 "cells": [
  {
   "cell_type": "markdown",
   "metadata": {},
   "source": [
    "# **Contextualización:**"
   ]
  },
  {
   "cell_type": "markdown",
   "metadata": {},
   "source": [
    "## **Microclimas urbanos en Barranquilla: Estudio conjunto sobre la variabilidad meteorológica por localidad y la predicción del potencial de energía solar**"
   ]
  },
  {
   "cell_type": "markdown",
   "metadata": {},
   "source": [
    "### **Introducción:**"
   ]
  },
  {
   "cell_type": "markdown",
   "metadata": {},
   "source": [
    "En las últimas décadas, el crecimiento acelerado de las áreas urbanas ha generado cambios significativos en los patrones climáticos locales, dando lugar a la formación de microclimas urbanos. Estos microclimas se caracterizan por variaciones en la temperatura, humedad, velocidad del viento y otros factores meteorológicos, que difieren de las condiciones climáticas de las áreas rurales circundantes. Comprender y clasificar estos microclimas es crucial para la planificación urbana, la gestión de recursos energéticos y la mejora de la calidad de vida de los habitantes.\n",
    "\n",
    "Además, en un contexto global de transición hacia fuentes de energía renovable, la energía solar se ha posicionado como una de las alternativas más prometedoras. Sin embargo, la eficiencia de los sistemas de captación de energía solar depende en gran medida de las condiciones meteorológicas locales, como la radiación solar, la nubosidad y la temperatura. Por lo tanto, predecir con precisión el potencial de energía solar en diferentes áreas urbanas es fundamental para optimizar la instalación de paneles solares y maximizar su rendimiento.\n",
    "\n",
    "Este proyecto combina técnicas de machine learning para abordar dos problemas clave:\n",
    "\n",
    "Clasificación de microclimas urbanos: Identificar y categorizar las variaciones climáticas en diferentes barrios de una ciudad.\n",
    "\n",
    "Predicción de energía solar potencial: Estimar la cantidad de energía solar que puede ser captada en función de las condiciones meteorológicas.\n",
    "\n",
    "---"
   ]
  },
  {
   "cell_type": "markdown",
   "metadata": {},
   "source": [
    "### **Glosario de Variables Climáticas y Meteorológicas**"
   ]
  },
  {
   "cell_type": "markdown",
   "metadata": {},
   "source": [
    "Este glosario describe las variables utilizadas en el análisis de microclimas y aprovechamiento de energía solar.\n",
    "\n",
    "#### **Variables Atmosféricas y Meteorológicas**\n",
    "- **T2M:** MERRA-2 Temperatura a 2 Metros (°C).  \n",
    "  - Indica la temperatura del aire a una altura de 2 metros sobre la superficie.\n",
    "- **RH2M:** MERRA-2 Humedad Relativa a 2 Metros (%).  \n",
    "  - Mide la cantidad de humedad en el aire en relación con la máxima posible a esa temperatura.\n",
    "- **PRECTOTCORR:** MERRA-2 Precipitación Corregida (mm/hora).  \n",
    "  - Representa la tasa de precipitación (lluvia, nieve) ajustada según correcciones satelitales.\n",
    "- **WS10M:** MERRA-2 Velocidad del Viento a 10 Metros (m/s).  \n",
    "  - Velocidad del viento medida a una altura de 10 metros sobre la superficie.\n",
    "- **WD10M:** MERRA-2 Dirección del Viento a 10 Metros (Grados).  \n",
    "  - Indica la dirección desde la que sopla el viento, en grados (0° = Norte, 90° = Este, etc.).\n",
    "- **PS:** MERRA-2 Presión Superficial (kPa).  \n",
    "  - Mide la presión atmosférica en la superficie terrestre.\n",
    "\n",
    "#### **Variables Relacionadas con la Energía Solar**\n",
    "- **ALLSKY_SFC_UV_INDEX:** CERES SYN1deg Índice UV en Superficie Bajo Cielo Total (W m⁻² × 40).  \n",
    "  - Mide la intensidad de la radiación ultravioleta en la superficie terrestre.\n",
    "- **ALLSKY_SFC_SW_DIFF:** CERES SYN1deg Irradiancia Difusa de Onda Corta en Superficie Bajo Cielo Total (Wh/m²).  \n",
    "  - Cantidad de energía solar dispersada en la atmósfera que llega a la superficie terrestre.\n",
    "- **ALLSKY_SRF_ALB:** CERES SYN1deg Albedo Superficial Bajo Cielo Total (adimensional).  \n",
    "  - Fracción de la radiación solar reflejada por la superficie terrestre respecto a la radiación recibida.\n",
    "- **ALLSKY_KT:** CERES SYN1deg Índice de Claridad de Insolación Bajo Cielo Total (adimensional).  \n",
    "  - Relación entre la irradiancia solar real y la irradiancia solar máxima teórica en ausencia de atmósfera.\n",
    "\n",
    "#### **Variables Adicionales**\n",
    "- **T2MDEW:** MERRA-2 Punto de Rocío/Escarcha a 2 Metros (°C).  \n",
    "  - Temperatura a la cual el aire debe enfriarse para que el vapor de agua se condense en forma de rocío.\n",
    "- **T2MWET:** MERRA-2 Temperatura de Bulbo Húmedo a 2 Metros (°C).  \n",
    "  - Mide la temperatura mínima alcanzable por evaporación de agua en condiciones de enfriamiento adiabático.\n",
    "- **WS50M:** MERRA-2 Velocidad del Viento a 50 Metros (m/s).  \n",
    "  - Velocidad del viento medida a 50 metros de altura, relevante para el aprovechamiento eólico.\n",
    "\n",
    "#### **Variables Geográficas**\n",
    "- **Loacality:** Localidad donde se tomaron los datos.  \n",
    "- **NHBD:** Neighborhood, barrio donde se registraron las mediciones.  \n",
    "\n",
    "Este glosario permite una mejor comprensión de los datos utilizados en el análisis de microclimas y potencial de energía solar.\n",
    "\n",
    "---\n"
   ]
  },
  {
   "cell_type": "markdown",
   "metadata": {},
   "source": [
    "### **Objetivos:**"
   ]
  },
  {
   "cell_type": "markdown",
   "metadata": {},
   "source": [
    "- **Impacto en la planificación urbana:** La clasificación de microclimas permite identificar áreas con condiciones climáticas extremas (como islas de calor urbanas) y proponer medidas de mitigación, como la creación de espacios verdes o la implementación de techos reflectantes.\n",
    "\n",
    "- **Optimización de energía renovable:** La predicción de energía solar potencial es esencial para diseñar sistemas de energía solar más eficientes y reducir la dependencia de combustibles fósiles.\n",
    "\n",
    "- **Contribución científica:** Este proyecto utiliza datos de alta resolución de fuentes como MERRA-2 y CERES SYN1deg, lo que permite un análisis detallado y preciso de las variables meteorológicas. Los resultados están pensados para ser publicados y servir como base para futuras investigaciones."
   ]
  }
 ],
 "metadata": {
  "kernelspec": {
   "display_name": "testml_env",
   "language": "python",
   "name": "python3"
  },
  "language_info": {
   "codemirror_mode": {
    "name": "ipython",
    "version": 3
   },
   "file_extension": ".py",
   "mimetype": "text/x-python",
   "name": "python",
   "nbconvert_exporter": "python",
   "pygments_lexer": "ipython3",
   "version": "3.8.20"
  }
 },
 "nbformat": 4,
 "nbformat_minor": 2
}
